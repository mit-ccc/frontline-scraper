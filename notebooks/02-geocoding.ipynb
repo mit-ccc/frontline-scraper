{
 "cells": [
  {
   "cell_type": "code",
   "execution_count": 1,
   "metadata": {},
   "outputs": [],
   "source": [
    "from collections import Counter\n",
    "from tqdm import tqdm_notebook\n",
    "\n",
    "from litecoder import twitter_usa_city_state\n",
    "\n",
    "from frontline.db import session\n",
    "from frontline.models import Tweet"
   ]
  },
  {
   "cell_type": "code",
   "execution_count": 2,
   "metadata": {},
   "outputs": [],
   "source": [
    "locs = [r for r, in session.query(Tweet.actor_location) if r]"
   ]
  },
  {
   "cell_type": "code",
   "execution_count": 3,
   "metadata": {},
   "outputs": [
    {
     "data": {
      "text/plain": [
       "24007"
      ]
     },
     "execution_count": 3,
     "metadata": {},
     "output_type": "execute_result"
    }
   ],
   "source": [
    "len(locs)"
   ]
  },
  {
   "cell_type": "code",
   "execution_count": 4,
   "metadata": {},
   "outputs": [
    {
     "data": {
      "application/vnd.jupyter.widget-view+json": {
       "model_id": "0a3812f19ad44eedaf0b1d3762f41f26",
       "version_major": 2,
       "version_minor": 0
      },
      "text/html": [
       "<p>Failed to display Jupyter Widget of type <code>HBox</code>.</p>\n",
       "<p>\n",
       "  If you're reading this message in the Jupyter Notebook or JupyterLab Notebook, it may mean\n",
       "  that the widgets JavaScript is still loading. If this message persists, it\n",
       "  likely means that the widgets JavaScript library is either not installed or\n",
       "  not enabled. See the <a href=\"https://ipywidgets.readthedocs.io/en/stable/user_install.html\">Jupyter\n",
       "  Widgets Documentation</a> for setup instructions.\n",
       "</p>\n",
       "<p>\n",
       "  If you're reading this message in another frontend (for example, a static\n",
       "  rendering on GitHub or <a href=\"https://nbviewer.jupyter.org/\">NBViewer</a>),\n",
       "  it may mean that your frontend doesn't currently support widgets.\n",
       "</p>\n"
      ],
      "text/plain": [
       "HBox(children=(IntProgress(value=0, max=24007), HTML(value='')))"
      ]
     },
     "metadata": {},
     "output_type": "display_data"
    },
    {
     "name": "stdout",
     "output_type": "stream",
     "text": [
      "\n"
     ]
    }
   ],
   "source": [
    "cities = []\n",
    "states = Counter()\n",
    "\n",
    "for loc in tqdm_notebook(locs):\n",
    "    \n",
    "    city, state = twitter_usa_city_state(loc)\n",
    "    \n",
    "    if city:\n",
    "        cities.append((city.latitude, city.longitude))\n",
    "        \n",
    "    if state:\n",
    "        states[state] += 1"
   ]
  },
  {
   "cell_type": "code",
   "execution_count": 5,
   "metadata": {},
   "outputs": [
    {
     "data": {
      "text/plain": [
       "Counter({<State:Alabama>: 103,\n",
       "         <State:Alaska>: 50,\n",
       "         <State:Arizona>: 356,\n",
       "         <State:Arkansas>: 36,\n",
       "         <State:California>: 2590,\n",
       "         <State:Colorado>: 266,\n",
       "         <State:Connecticut>: 127,\n",
       "         <State:Delaware>: 37,\n",
       "         <State:District of Columbia>: 47,\n",
       "         <State:Florida>: 692,\n",
       "         <State:Georgia>: 277,\n",
       "         <State:Hawaii>: 76,\n",
       "         <State:Idaho>: 70,\n",
       "         <State:Illinois>: 619,\n",
       "         <State:Indiana>: 188,\n",
       "         <State:Iowa>: 69,\n",
       "         <State:Kansas>: 191,\n",
       "         <State:Kentucky>: 112,\n",
       "         <State:Louisiana>: 164,\n",
       "         <State:Maine>: 79,\n",
       "         <State:Maryland>: 194,\n",
       "         <State:Massachusetts>: 661,\n",
       "         <State:Michigan>: 320,\n",
       "         <State:Minnesota>: 195,\n",
       "         <State:Mississippi>: 48,\n",
       "         <State:Missouri>: 206,\n",
       "         <State:Montana>: 53,\n",
       "         <State:Nebraska>: 67,\n",
       "         <State:Nevada>: 105,\n",
       "         <State:New Hampshire>: 17,\n",
       "         <State:New Jersey>: 206,\n",
       "         <State:New Mexico>: 69,\n",
       "         <State:New York>: 844,\n",
       "         <State:North Carolina>: 408,\n",
       "         <State:North Dakota>: 5,\n",
       "         <State:Ohio>: 400,\n",
       "         <State:Oklahoma>: 108,\n",
       "         <State:Oregon>: 320,\n",
       "         <State:Pennsylvania>: 420,\n",
       "         <State:Rhode Island>: 38,\n",
       "         <State:South Carolina>: 82,\n",
       "         <State:South Dakota>: 16,\n",
       "         <State:Tennessee>: 209,\n",
       "         <State:Texas>: 899,\n",
       "         <State:Utah>: 75,\n",
       "         <State:Vermont>: 30,\n",
       "         <State:Virginia>: 300,\n",
       "         <State:Washington>: 563,\n",
       "         <State:West Virginia>: 10,\n",
       "         <State:Wisconsin>: 176,\n",
       "         <State:Wyoming>: 24})"
      ]
     },
     "execution_count": 5,
     "metadata": {},
     "output_type": "execute_result"
    }
   ],
   "source": [
    "states"
   ]
  },
  {
   "cell_type": "code",
   "execution_count": 19,
   "metadata": {},
   "outputs": [
    {
     "data": {
      "text/plain": [
       "35638"
      ]
     },
     "execution_count": 19,
     "metadata": {},
     "output_type": "execute_result"
    }
   ],
   "source": [
    "len(cities)"
   ]
  },
  {
   "cell_type": "code",
   "execution_count": null,
   "metadata": {},
   "outputs": [],
   "source": []
  }
 ],
 "metadata": {
  "kernelspec": {
   "display_name": "Python 3",
   "language": "python",
   "name": "python3"
  },
  "language_info": {
   "codemirror_mode": {
    "name": "ipython",
    "version": 3
   },
   "file_extension": ".py",
   "mimetype": "text/x-python",
   "name": "python",
   "nbconvert_exporter": "python",
   "pygments_lexer": "ipython3",
   "version": "3.6.2"
  }
 },
 "nbformat": 4,
 "nbformat_minor": 2
}
