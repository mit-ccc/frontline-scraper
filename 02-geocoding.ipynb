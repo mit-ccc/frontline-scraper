{
 "cells": [
  {
   "cell_type": "code",
   "execution_count": 15,
   "metadata": {},
   "outputs": [],
   "source": [
    "from collections import Counter\n",
    "from tqdm import tqdm_notebook\n",
    "\n",
    "from litecoder import twitter_usa_city_state\n",
    "\n",
    "from frontline.db import session\n",
    "from frontline.models import Tweet"
   ]
  },
  {
   "cell_type": "code",
   "execution_count": 11,
   "metadata": {},
   "outputs": [],
   "source": [
    "locs = [r for r, in session.query(Tweet.actor_location) if r]"
   ]
  },
  {
   "cell_type": "code",
   "execution_count": 12,
   "metadata": {},
   "outputs": [
    {
     "data": {
      "text/plain": [
       "287173"
      ]
     },
     "execution_count": 12,
     "metadata": {},
     "output_type": "execute_result"
    }
   ],
   "source": [
    "len(locs)"
   ]
  },
  {
   "cell_type": "code",
   "execution_count": 16,
   "metadata": {},
   "outputs": [
    {
     "data": {
      "application/vnd.jupyter.widget-view+json": {
       "model_id": "9b0f8391ef14410ebdd0e2ebe5ec088d",
       "version_major": 2,
       "version_minor": 0
      },
      "text/html": [
       "<p>Failed to display Jupyter Widget of type <code>HBox</code>.</p>\n",
       "<p>\n",
       "  If you're reading this message in the Jupyter Notebook or JupyterLab Notebook, it may mean\n",
       "  that the widgets JavaScript is still loading. If this message persists, it\n",
       "  likely means that the widgets JavaScript library is either not installed or\n",
       "  not enabled. See the <a href=\"https://ipywidgets.readthedocs.io/en/stable/user_install.html\">Jupyter\n",
       "  Widgets Documentation</a> for setup instructions.\n",
       "</p>\n",
       "<p>\n",
       "  If you're reading this message in another frontend (for example, a static\n",
       "  rendering on GitHub or <a href=\"https://nbviewer.jupyter.org/\">NBViewer</a>),\n",
       "  it may mean that your frontend doesn't currently support widgets.\n",
       "</p>\n"
      ],
      "text/plain": [
       "HBox(children=(IntProgress(value=0, max=287173), HTML(value='')))"
      ]
     },
     "metadata": {},
     "output_type": "display_data"
    },
    {
     "name": "stdout",
     "output_type": "stream",
     "text": [
      "\n"
     ]
    }
   ],
   "source": [
    "cities = []\n",
    "states = Counter()\n",
    "\n",
    "for loc in tqdm_notebook(locs):\n",
    "    \n",
    "    city, state = twitter_usa_city_state(loc)\n",
    "    \n",
    "    if city:\n",
    "        cities.append((city.latitude, city.longitude))\n",
    "        \n",
    "    if state:\n",
    "        states[state] += 1"
   ]
  },
  {
   "cell_type": "code",
   "execution_count": 17,
   "metadata": {},
   "outputs": [
    {
     "data": {
      "text/plain": [
       "Counter({<State:Alabama>: 606,\n",
       "         <State:Alaska>: 178,\n",
       "         <State:Arizona>: 949,\n",
       "         <State:Arkansas>: 248,\n",
       "         <State:California>: 8876,\n",
       "         <State:Colorado>: 1122,\n",
       "         <State:Connecticut>: 389,\n",
       "         <State:Delaware>: 1096,\n",
       "         <State:District of Columbia>: 6872,\n",
       "         <State:Florida>: 3194,\n",
       "         <State:Georgia>: 1368,\n",
       "         <State:Hawaii>: 212,\n",
       "         <State:Idaho>: 215,\n",
       "         <State:Illinois>: 2159,\n",
       "         <State:Indiana>: 705,\n",
       "         <State:Iowa>: 340,\n",
       "         <State:Kansas>: 296,\n",
       "         <State:Kentucky>: 502,\n",
       "         <State:Louisiana>: 979,\n",
       "         <State:Maine>: 220,\n",
       "         <State:Maryland>: 820,\n",
       "         <State:Massachusetts>: 1871,\n",
       "         <State:Michigan>: 2513,\n",
       "         <State:Minnesota>: 764,\n",
       "         <State:Mississippi>: 238,\n",
       "         <State:Missouri>: 798,\n",
       "         <State:Montana>: 138,\n",
       "         <State:Nebraska>: 229,\n",
       "         <State:Nevada>: 595,\n",
       "         <State:New Hampshire>: 130,\n",
       "         <State:New Jersey>: 987,\n",
       "         <State:New Mexico>: 217,\n",
       "         <State:New York>: 2797,\n",
       "         <State:North Carolina>: 1334,\n",
       "         <State:North Dakota>: 49,\n",
       "         <State:Ohio>: 1818,\n",
       "         <State:Oklahoma>: 405,\n",
       "         <State:Oregon>: 991,\n",
       "         <State:Pennsylvania>: 1969,\n",
       "         <State:Rhode Island>: 155,\n",
       "         <State:South Carolina>: 579,\n",
       "         <State:South Dakota>: 98,\n",
       "         <State:Tennessee>: 860,\n",
       "         <State:Texas>: 4034,\n",
       "         <State:Utah>: 227,\n",
       "         <State:Vermont>: 139,\n",
       "         <State:Virginia>: 1834,\n",
       "         <State:Washington>: 1467,\n",
       "         <State:West Virginia>: 142,\n",
       "         <State:Wisconsin>: 737,\n",
       "         <State:Wyoming>: 57})"
      ]
     },
     "execution_count": 17,
     "metadata": {},
     "output_type": "execute_result"
    }
   ],
   "source": [
    "states"
   ]
  },
  {
   "cell_type": "code",
   "execution_count": 19,
   "metadata": {},
   "outputs": [
    {
     "data": {
      "text/plain": [
       "35638"
      ]
     },
     "execution_count": 19,
     "metadata": {},
     "output_type": "execute_result"
    }
   ],
   "source": [
    "len(cities)"
   ]
  },
  {
   "cell_type": "code",
   "execution_count": null,
   "metadata": {},
   "outputs": [],
   "source": []
  }
 ],
 "metadata": {
  "kernelspec": {
   "display_name": "Python 3",
   "language": "python",
   "name": "python3"
  },
  "language_info": {
   "codemirror_mode": {
    "name": "ipython",
    "version": 3
   },
   "file_extension": ".py",
   "mimetype": "text/x-python",
   "name": "python",
   "nbconvert_exporter": "python",
   "pygments_lexer": "ipython3",
   "version": "3.6.2"
  }
 },
 "nbformat": 4,
 "nbformat_minor": 2
}
